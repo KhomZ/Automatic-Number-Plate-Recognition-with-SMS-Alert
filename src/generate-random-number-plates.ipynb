{
 "cells": [
  {
   "cell_type": "code",
   "execution_count": 1,
   "metadata": {},
   "outputs": [
    {
     "ename": "OSError",
     "evalue": "cannot open resource",
     "output_type": "error",
     "traceback": [
      "\u001b[1;31m---------------------------------------------------------------------------\u001b[0m",
      "\u001b[1;31mOSError\u001b[0m                                   Traceback (most recent call last)",
      "\u001b[1;32m~\\AppData\\Local\\Temp/ipykernel_12276/331647940.py\u001b[0m in \u001b[0;36m<module>\u001b[1;34m\u001b[0m\n\u001b[0;32m     19\u001b[0m \u001b[1;31m#use a truetype font\u001b[0m\u001b[1;33m\u001b[0m\u001b[1;33m\u001b[0m\u001b[0m\n\u001b[0;32m     20\u001b[0m \u001b[1;31m#font = ImageFont.truetype(\"Helvetica-Bold.ttf\", 120)\u001b[0m\u001b[1;33m\u001b[0m\u001b[1;33m\u001b[0m\u001b[0m\n\u001b[1;32m---> 21\u001b[1;33m \u001b[0mfont\u001b[0m \u001b[1;33m=\u001b[0m \u001b[0mImageFont\u001b[0m\u001b[1;33m.\u001b[0m\u001b[0mtruetype\u001b[0m\u001b[1;33m(\u001b[0m\u001b[1;34m\"BebasNeueBold.ttf\"\u001b[0m\u001b[1;33m,\u001b[0m \u001b[1;36m150\u001b[0m\u001b[1;33m)\u001b[0m\u001b[1;33m\u001b[0m\u001b[1;33m\u001b[0m\u001b[0m\n\u001b[0m\u001b[0;32m     22\u001b[0m \u001b[1;33m\u001b[0m\u001b[0m\n\u001b[0;32m     23\u001b[0m \u001b[1;33m\u001b[0m\u001b[0m\n",
      "\u001b[1;32mC:\\Python39\\lib\\site-packages\\PIL\\ImageFont.py\u001b[0m in \u001b[0;36mtruetype\u001b[1;34m(font, size, index, encoding, layout_engine)\u001b[0m\n\u001b[0;32m    853\u001b[0m \u001b[1;33m\u001b[0m\u001b[0m\n\u001b[0;32m    854\u001b[0m     \u001b[1;32mtry\u001b[0m\u001b[1;33m:\u001b[0m\u001b[1;33m\u001b[0m\u001b[1;33m\u001b[0m\u001b[0m\n\u001b[1;32m--> 855\u001b[1;33m         \u001b[1;32mreturn\u001b[0m \u001b[0mfreetype\u001b[0m\u001b[1;33m(\u001b[0m\u001b[0mfont\u001b[0m\u001b[1;33m)\u001b[0m\u001b[1;33m\u001b[0m\u001b[1;33m\u001b[0m\u001b[0m\n\u001b[0m\u001b[0;32m    856\u001b[0m     \u001b[1;32mexcept\u001b[0m \u001b[0mOSError\u001b[0m\u001b[1;33m:\u001b[0m\u001b[1;33m\u001b[0m\u001b[1;33m\u001b[0m\u001b[0m\n\u001b[0;32m    857\u001b[0m         \u001b[1;32mif\u001b[0m \u001b[1;32mnot\u001b[0m \u001b[0misPath\u001b[0m\u001b[1;33m(\u001b[0m\u001b[0mfont\u001b[0m\u001b[1;33m)\u001b[0m\u001b[1;33m:\u001b[0m\u001b[1;33m\u001b[0m\u001b[1;33m\u001b[0m\u001b[0m\n",
      "\u001b[1;32mC:\\Python39\\lib\\site-packages\\PIL\\ImageFont.py\u001b[0m in \u001b[0;36mfreetype\u001b[1;34m(font)\u001b[0m\n\u001b[0;32m    850\u001b[0m \u001b[1;33m\u001b[0m\u001b[0m\n\u001b[0;32m    851\u001b[0m     \u001b[1;32mdef\u001b[0m \u001b[0mfreetype\u001b[0m\u001b[1;33m(\u001b[0m\u001b[0mfont\u001b[0m\u001b[1;33m)\u001b[0m\u001b[1;33m:\u001b[0m\u001b[1;33m\u001b[0m\u001b[1;33m\u001b[0m\u001b[0m\n\u001b[1;32m--> 852\u001b[1;33m         \u001b[1;32mreturn\u001b[0m \u001b[0mFreeTypeFont\u001b[0m\u001b[1;33m(\u001b[0m\u001b[0mfont\u001b[0m\u001b[1;33m,\u001b[0m \u001b[0msize\u001b[0m\u001b[1;33m,\u001b[0m \u001b[0mindex\u001b[0m\u001b[1;33m,\u001b[0m \u001b[0mencoding\u001b[0m\u001b[1;33m,\u001b[0m \u001b[0mlayout_engine\u001b[0m\u001b[1;33m)\u001b[0m\u001b[1;33m\u001b[0m\u001b[1;33m\u001b[0m\u001b[0m\n\u001b[0m\u001b[0;32m    853\u001b[0m \u001b[1;33m\u001b[0m\u001b[0m\n\u001b[0;32m    854\u001b[0m     \u001b[1;32mtry\u001b[0m\u001b[1;33m:\u001b[0m\u001b[1;33m\u001b[0m\u001b[1;33m\u001b[0m\u001b[0m\n",
      "\u001b[1;32mC:\\Python39\\lib\\site-packages\\PIL\\ImageFont.py\u001b[0m in \u001b[0;36m__init__\u001b[1;34m(self, font, size, index, encoding, layout_engine)\u001b[0m\n\u001b[0;32m    209\u001b[0m                         \u001b[0mload_from_bytes\u001b[0m\u001b[1;33m(\u001b[0m\u001b[0mf\u001b[0m\u001b[1;33m)\u001b[0m\u001b[1;33m\u001b[0m\u001b[1;33m\u001b[0m\u001b[0m\n\u001b[0;32m    210\u001b[0m                     \u001b[1;32mreturn\u001b[0m\u001b[1;33m\u001b[0m\u001b[1;33m\u001b[0m\u001b[0m\n\u001b[1;32m--> 211\u001b[1;33m             self.font = core.getfont(\n\u001b[0m\u001b[0;32m    212\u001b[0m                 \u001b[0mfont\u001b[0m\u001b[1;33m,\u001b[0m \u001b[0msize\u001b[0m\u001b[1;33m,\u001b[0m \u001b[0mindex\u001b[0m\u001b[1;33m,\u001b[0m \u001b[0mencoding\u001b[0m\u001b[1;33m,\u001b[0m \u001b[0mlayout_engine\u001b[0m\u001b[1;33m=\u001b[0m\u001b[0mlayout_engine\u001b[0m\u001b[1;33m\u001b[0m\u001b[1;33m\u001b[0m\u001b[0m\n\u001b[0;32m    213\u001b[0m             )\n",
      "\u001b[1;31mOSError\u001b[0m: cannot open resource"
     ]
    }
   ],
   "source": [
    "# Several things to consider to create \"real\" NP dataset\n",
    "# Download ttf font you want to use\n",
    "# Install PIL\n",
    "# This code will only generate simple number plates\n",
    "# We further perform post-processing in Blender to create skewed/\n",
    "# tilted/scaled and motion-blurred number plates.\n",
    "\n",
    "from PIL import ImageFont, ImageDraw, Image  \n",
    "import numpy as np \n",
    "import cv2\n",
    "import random\n",
    "\n",
    "# ASCII A to Z are 65 to 90\n",
    "\n",
    "hel = [75, 25, 15, 130, 120] \n",
    "beb = [110, 2, 60, 135, 150]\n",
    "\n",
    "\n",
    "#use a truetype font \n",
    "#font = ImageFont.truetype(\"Helvetica-Bold.ttf\", 120)  \n",
    "# font = ImageFont.truetype(\"BebasNeueBold.ttf\", 150) \n",
    "font = ImageFont.truetype(\"Arial.ttf\", 150) \n",
    "\n",
    "\n",
    "rtc = 67\n",
    "bias = 10\n",
    "for r in range(rtc+1):\n",
    "    if r < 4:\n",
    "        for k in range(1000):\n",
    "            if r < 10:\n",
    "                number_plate_1 = \"KA 0\" + str(r)\n",
    "            else:\n",
    "                number_plate_1 = \"KA \" + str(r)\n",
    "            number_plate_2 = (chr(random.randint(65, 90))+chr(random.randint(65, 90))+\" \" + str(random.randint(1000, 9999)))\n",
    "            img = np.zeros((256, 512, 3), np.uint8)\n",
    "            pil_img = Image.fromarray(img)\n",
    "            draw = ImageDraw.Draw(pil_img)\n",
    "\n",
    "            draw.text((75, 25), number_plate_1, font=font)  \n",
    "            draw.text((15, 130), number_plate_2, font=font)\n",
    "            cv2_img = cv2.cvtColor(np.array(pil_img), cv2.COLOR_RGB2BGR)\n",
    "            cv2_img = cv2.bitwise_not(cv2_img)\n",
    "\n",
    "            #cv2.imshow(\"number_plate\", cv2_img)\n",
    "            cv2.imwrite(number_plate_1+\" \"+number_plate_2+\".png\", cv2_img)\n",
    "            #cv2.waitKey(10)\n",
    "    else:\n",
    "        for k in range(100):\n",
    "            if r < 10:\n",
    "                number_plate_1 = \"KA 0\" + str(r)\n",
    "            else:\n",
    "                number_plate_1 = \"KA \" + str(r)\n",
    "            number_plate_2 = (chr(random.randint(65, 90))+chr(random.randint(65, 90))+\" \" + str(random.randint(1000, 9999)))\n",
    "            img = np.zeros((256, 512, 3), np.uint8)\n",
    "            pil_img = Image.fromarray(img)\n",
    "            draw = ImageDraw.Draw(pil_img)\n",
    "\n",
    "            draw.text((75, 25), number_plate_1, font=font)  \n",
    "            draw.text((15, 130), number_plate_2, font=font)\n",
    "            cv2_img = cv2.cvtColor(np.array(pil_img), cv2.COLOR_RGB2BGR)\n",
    "            cv2_img = cv2.bitwise_not(cv2_img)\n",
    "\n",
    "            #cv2.imshow(\"number_plate\", cv2_img)\n",
    "            cv2.imwrite(number_plate_1+\" \"+number_plate_2+\".png\", cv2_img)\n",
    "            #cv2.waitKey(10)\n",
    "\n",
    "\n",
    "\n",
    "cv2.destroyAllWindows()"
   ]
  }
 ],
 "metadata": {
  "interpreter": {
   "hash": "63fd5069d213b44bf678585dea6b12cceca9941eaf7f819626cde1f2670de90d"
  },
  "kernelspec": {
   "display_name": "Python 3.9.7 64-bit",
   "language": "python",
   "name": "python3"
  },
  "language_info": {
   "codemirror_mode": {
    "name": "ipython",
    "version": 3
   },
   "file_extension": ".py",
   "mimetype": "text/x-python",
   "name": "python",
   "nbconvert_exporter": "python",
   "pygments_lexer": "ipython3",
   "version": "3.9.7"
  },
  "orig_nbformat": 4
 },
 "nbformat": 4,
 "nbformat_minor": 2
}
